{
 "cells": [
  {
   "cell_type": "markdown",
   "metadata": {},
   "source": [
    "## Problem: Write a script that resizes all images  in \"sample_images\" to 100x100"
   ]
  },
  {
   "cell_type": "code",
   "execution_count": 8,
   "metadata": {},
   "outputs": [],
   "source": [
    "import cv2\n",
    "import glob"
   ]
  },
  {
   "cell_type": "code",
   "execution_count": 13,
   "metadata": {},
   "outputs": [
    {
     "name": "stdout",
     "output_type": "stream",
     "text": [
      "image sample_images/Moon sinking, sun rising.jpg\n",
      "image sample_images/galaxy.jpg\n",
      "image sample_images/kangaroos-rain-australia_71370_990x742.jpg\n",
      "image sample_images/Lighthouse.jpg\n"
     ]
    }
   ],
   "source": [
    "images = glob.glob(\"sample_images/*.jpg\")\n",
    "\n",
    "for image in images:\n",
    "    print(\"image\", image)\n",
    "    img = cv2.imread(image, 1)\n",
    "    re = cv2.resize(img, (100, 100))\n",
    "    cv2.imwrite(\"sample_images/resized_images/resized_\" + image.split(\"/\")[1], re)\n"
   ]
  }
 ],
 "metadata": {
  "interpreter": {
   "hash": "e7370f93d1d0cde622a1f8e1c04877d8463912d04d973331ad4851f04de6915a"
  },
  "kernelspec": {
   "display_name": "Python 3.9.12 64-bit",
   "language": "python",
   "name": "python3"
  },
  "language_info": {
   "codemirror_mode": {
    "name": "ipython",
    "version": 3
   },
   "file_extension": ".py",
   "mimetype": "text/x-python",
   "name": "python",
   "nbconvert_exporter": "python",
   "pygments_lexer": "ipython3",
   "version": "3.9.12"
  },
  "orig_nbformat": 4
 },
 "nbformat": 4,
 "nbformat_minor": 2
}
