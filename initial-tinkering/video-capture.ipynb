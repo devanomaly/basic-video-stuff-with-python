{
 "cells": [
  {
   "cell_type": "markdown",
   "metadata": {},
   "source": [
    "## Here we use openCV to capture video from the user webcam "
   ]
  },
  {
   "cell_type": "code",
   "execution_count": 8,
   "metadata": {},
   "outputs": [],
   "source": [
    "import cv2"
   ]
  },
  {
   "cell_type": "code",
   "execution_count": 12,
   "metadata": {},
   "outputs": [
    {
     "name": "stdout",
     "output_type": "stream",
     "text": [
      "we had 304 frames\n"
     ]
    }
   ],
   "source": [
    "video = cv2.VideoCapture(0)  # using my webcam\n",
    "j = 0\n",
    "frames_number = 1\n",
    "while True:\n",
    "    frames_number += 1 \n",
    "    check, frame = video.read()  # getting frames\n",
    "    cv2.imshow(\"user's webcam\", frame)\n",
    "    key = cv2.waitKey(10)\n",
    "    if  key==ord('q'):\n",
    "      # press \"q\" to stop the loop\n",
    "      break\n",
    "print(\"we had\",frames_number, \"frames\")\n",
    "video.release()\n",
    "cv2.destroyAllWindows()\n"
   ]
  },
  {
   "cell_type": "markdown",
   "metadata": {},
   "source": [
    "## Let us now try to capture faces in real time"
   ]
  },
  {
   "cell_type": "code",
   "execution_count": 13,
   "metadata": {},
   "outputs": [
    {
     "name": "stdout",
     "output_type": "stream",
     "text": [
      "we had 193 frames\n"
     ]
    }
   ],
   "source": [
    "# the face detector\n",
    "face_cascade = cv2.CascadeClassifier(\"faces_images/haarcascade_frontalface_default.xml\")\n",
    "video = cv2.VideoCapture(0)  # using my webcam\n",
    "j = 0\n",
    "frames_number = 1\n",
    "while True:\n",
    "    frames_number += 1\n",
    "    check, frame = video.read()  # getting frames\n",
    "    faces = face_cascade.detectMultiScale(frame, scaleFactor=1.05, minNeighbors=4)\n",
    "    for x, y, w, h in faces:\n",
    "        frame = cv2.rectangle(frame, (x, y), (x + w, y + h), (0, 255, 0), 4)\n",
    "    cv2.imshow(\"user's webcam\", frame)\n",
    "    key = cv2.waitKey(10)\n",
    "    if key == ord(\"q\"):\n",
    "        # press \"q\" to stop the loop\n",
    "        break\n",
    "print(\"we had\", frames_number, \"frames\")\n",
    "video.release()\n",
    "cv2.destroyAllWindows()\n"
   ]
  }
 ],
 "metadata": {
  "interpreter": {
   "hash": "e7370f93d1d0cde622a1f8e1c04877d8463912d04d973331ad4851f04de6915a"
  },
  "kernelspec": {
   "display_name": "Python 3.9.12 64-bit",
   "language": "python",
   "name": "python3"
  },
  "language_info": {
   "codemirror_mode": {
    "name": "ipython",
    "version": 3
   },
   "file_extension": ".py",
   "mimetype": "text/x-python",
   "name": "python",
   "nbconvert_exporter": "python",
   "pygments_lexer": "ipython3",
   "version": "3.9.12"
  },
  "orig_nbformat": 4
 },
 "nbformat": 4,
 "nbformat_minor": 2
}
